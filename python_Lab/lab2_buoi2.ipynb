{
 "cells": [
  {
   "cell_type": "code",
   "execution_count": 1,
   "metadata": {},
   "outputs": [
    {
     "name": "stdout",
     "output_type": "stream",
     "text": [
      "String: Hello World\n",
      "The length = 11\n"
     ]
    }
   ],
   "source": [
    "#cau1\n",
    "def cau1(theString):\n",
    "    print(f'String: {theString}')\n",
    "    print(f\"The length = {len(theString)}\")\n",
    "\n",
    "theString = input()\n",
    "cau1(theString)"
   ]
  },
  {
   "cell_type": "code",
   "execution_count": 2,
   "metadata": {},
   "outputs": [
    {
     "name": "stdout",
     "output_type": "stream",
     "text": [
      "String: Hello World\n",
      "Results: {'H': 1, 'e': 1, 'l': 3, 'o': 2, ' ': 1, 'W': 1, 'r': 1, 'd': 1}\n"
     ]
    }
   ],
   "source": [
    "#cau2\n",
    "def cau2(theString):\n",
    "    freq = {}\n",
    "    for i in theString:\n",
    "        if i in freq:\n",
    "            freq[i] = freq[i] + 1\n",
    "        else:\n",
    "            freq[i] = 1\n",
    "    print(f'String: {theString}')\n",
    "    print(f'Results: {freq}')\n",
    "\n",
    "theString = input()\n",
    "cau2(theString)"
   ]
  },
  {
   "cell_type": "code",
   "execution_count": 3,
   "metadata": {},
   "outputs": [
    {
     "name": "stdout",
     "output_type": "stream",
     "text": [
      "String: Hello World\n",
      "Results: Held\n"
     ]
    }
   ],
   "source": [
    "#cau3\n",
    "def cau3(str):\n",
    "    if len(str) < 2:\n",
    "        print(str)\n",
    "        print('Empty String')\n",
    "    else:\n",
    "        print(f'String: {theString}')\n",
    "        print(f'Results: {str[:2] + str[-2:]}')\n",
    "\n",
    "str = input()\n",
    "cau3(str)"
   ]
  },
  {
   "cell_type": "code",
   "execution_count": 4,
   "metadata": {},
   "outputs": [
    {
     "name": "stdout",
     "output_type": "stream",
     "text": [
      "String: huhuhuhuhuhuhu\n",
      "Results: hu$u$u$u$u$u$u\n"
     ]
    }
   ],
   "source": [
    "#cau4\n",
    "def cau4(theString):\n",
    "    char = theString[0]\n",
    "    results = char\n",
    "    for i in theString[1:]:\n",
    "        if i == char:\n",
    "            results += '$'\n",
    "        else:\n",
    "            results += i\n",
    "    print(f'String: {theString}')\n",
    "    print(f'Results: {results}')\n",
    "\n",
    "str = input()\n",
    "cau4(str)"
   ]
  },
  {
   "cell_type": "code",
   "execution_count": 4,
   "metadata": {},
   "outputs": [
    {
     "name": "stdout",
     "output_type": "stream",
     "text": [
      "xyc abz\n"
     ]
    }
   ],
   "source": [
    "#cau5\n",
    "def cau5(str1, str2):\n",
    "    str = str2[0:2] + str1[-1:] + ' ' + str1[:2] + str2[-1:]\n",
    "    print(str)\n",
    "\n",
    "str1 = input()\n",
    "str2 = input()\n",
    "cau5(str1, str2)\n"
   ]
  },
  {
   "cell_type": "code",
   "execution_count": 8,
   "metadata": {},
   "outputs": [
    {
     "name": "stdout",
     "output_type": "stream",
     "text": [
      "stringly\n"
     ]
    }
   ],
   "source": [
    "#cau6\n",
    "def cau6(string):\n",
    "    if string[-3:] == 'ing':\n",
    "        string += 'ly'\n",
    "        print(string)\n",
    "    elif len(string) > 3:\n",
    "        string += 'ing'\n",
    "        print(string)\n",
    "    else:\n",
    "        print(string)\n",
    "\n",
    "string = input()\n",
    "cau6(string)"
   ]
  },
  {
   "cell_type": "code",
   "execution_count": 18,
   "metadata": {},
   "outputs": [
    {
     "name": "stdout",
     "output_type": "stream",
     "text": [
      "The lyrics is good!\n",
      "The lyrics is poor!\n"
     ]
    }
   ],
   "source": [
    "#cau7\n",
    "def cau7(str):\n",
    "    not_index = -1\n",
    "    poor_index = -1\n",
    "    \n",
    "    for i in range(len(str)):\n",
    "        if str[i:i+3] == 'not':\n",
    "            not_index = i\n",
    "        if str[i:i+4] == 'poor':\n",
    "            poor_index = i\n",
    "            if not_index != -1:\n",
    "                break\n",
    "    if not_index != -1 and poor_index != -1 and not_index < poor_index:\n",
    "        return str[:not_index] + 'good' + str[poor_index + 4:]\n",
    "    else:\n",
    "        return str\n",
    "\n",
    "string1 = 'The lyrics is not that poor!'\n",
    "string2 = 'The lyrics is poor!'\n",
    "\n",
    "print(cau7(string1))\n",
    "print(cau7(string2))"
   ]
  },
  {
   "cell_type": "code",
   "execution_count": 19,
   "metadata": {},
   "outputs": [
    {
     "name": "stdout",
     "output_type": "stream",
     "text": [
      "Longest word: Xin Chào\n",
      "Length: 8\n"
     ]
    }
   ],
   "source": [
    "#cau8\n",
    "def cau8(words_list):\n",
    "    longest_word = words_list[0]\n",
    "    longest_length = len(longest_word)\n",
    "\n",
    "    for word in words_list:\n",
    "        current_length = len(word)\n",
    "        if current_length > longest_length:\n",
    "            longest_word = word\n",
    "            longest_length = current_length\n",
    "    return longest_word, longest_length\n",
    "\n",
    "words = ['Hello', 'Hi', 'Ni hao', 'Bonjua', 'Xin Chào']\n",
    "longest_word, length = cau8(words)\n",
    "print(f'Longest word: {longest_word}\\nLength: {length}')"
   ]
  },
  {
   "cell_type": "code",
   "execution_count": 22,
   "metadata": {},
   "outputs": [
    {
     "name": "stdout",
     "output_type": "stream",
     "text": [
      "Hello, orld!\n"
     ]
    }
   ],
   "source": [
    "#cau9\n",
    "def cau9(string, n):\n",
    "    if n < 0 or n >= len(string):\n",
    "        print('Index out of range')\n",
    "    else:\n",
    "        print(string[:n] + string[n+1:])\n",
    "    \n",
    "string = 'Hello, World!'\n",
    "n = 7\n",
    "cau9(string, n)"
   ]
  },
  {
   "cell_type": "code",
   "execution_count": null,
   "metadata": {},
   "outputs": [
    {
     "name": "stdout",
     "output_type": "stream",
     "text": [
      "guonh\n"
     ]
    }
   ],
   "source": [
    "#cau10\n",
    "def cau10(string):\n",
    "    print(string[-1:] + string[1:len(string)-1] + string[:1])\n",
    "\n",
    "string = input()\n",
    "cau10(string)"
   ]
  },
  {
   "cell_type": "code",
   "execution_count": 31,
   "metadata": {},
   "outputs": [
    {
     "name": "stdout",
     "output_type": "stream",
     "text": [
      "HloWrd\n"
     ]
    }
   ],
   "source": [
    "#cau11\n",
    "def cau11(str):\n",
    "    result = ''\n",
    "    for i in range(len(str)):\n",
    "        if i%2==0:\n",
    "            result += str[i]\n",
    "    print(result)\n",
    "\n",
    "string = input()\n",
    "cau11(string)"
   ]
  },
  {
   "cell_type": "code",
   "execution_count": 6,
   "metadata": {},
   "outputs": [
    {
     "name": "stdout",
     "output_type": "stream",
     "text": [
      "Sentence: Write a Python program to count the occurrences of each word in a given sentence.\n",
      "write: 1\n",
      "a: 2\n",
      "python: 1\n",
      "program: 1\n",
      "to: 1\n",
      "count: 1\n",
      "the: 1\n",
      "occurrences: 1\n",
      "of: 1\n",
      "each: 1\n",
      "word: 1\n",
      "in: 1\n",
      "given: 1\n",
      "sentence: 1\n"
     ]
    }
   ],
   "source": [
    "#cau12\n",
    "def cau12(str):\n",
    "    str = str.lower()\n",
    "    words = []\n",
    "    current_word = \"\"\n",
    "    word_count = {}\n",
    "\n",
    "    for char in str:\n",
    "        if char.isalnum():\n",
    "            current_word += char\n",
    "        else:\n",
    "            if current_word:\n",
    "                words.append(current_word)\n",
    "                current_word = \"\"\n",
    "    if current_word:\n",
    "        words.append(current_word)\n",
    "\n",
    "    for word in words:\n",
    "        if word in word_count:\n",
    "            word_count[word] += 1\n",
    "        else:\n",
    "            word_count[word] = 1\n",
    "\n",
    "    for word, count in word_count.items():\n",
    "        print(f'{word}: {count}')\n",
    "\n",
    "string = input()\n",
    "print(f'Sentence: {string}')\n",
    "cau12(string)"
   ]
  },
  {
   "cell_type": "code",
   "execution_count": 9,
   "metadata": {},
   "outputs": [
    {
     "name": "stdout",
     "output_type": "stream",
     "text": [
      "The input: Hello World\n",
      "Upper cases: HELLO WORLD\n",
      "Lower cases: hello world\n"
     ]
    }
   ],
   "source": [
    "#cau13\n",
    "def cau13(string):\n",
    "    print(f'Upper cases: {string.upper()}')\n",
    "    print(f'Lower cases: {string.lower()}')\n",
    "\n",
    "string = input()\n",
    "print(f'The input: {string}')\n",
    "cau13(string)"
   ]
  },
  {
   "cell_type": "code",
   "execution_count": 20,
   "metadata": {},
   "outputs": [
    {
     "name": "stdout",
     "output_type": "stream",
     "text": [
      " red, white, black, red, green, black\n",
      " black, green, red, white\n"
     ]
    }
   ],
   "source": [
    "#cau14\n",
    "items = input(\"Input comma-separated sequence of words\")\n",
    "print(items)\n",
    "words = [word for word in items.split(\",\")]\n",
    "print(\",\".join(sorted(list(set(words)))))"
   ]
  },
  {
   "cell_type": "code",
   "execution_count": null,
   "metadata": {},
   "outputs": [
    {
     "name": "stdout",
     "output_type": "stream",
     "text": [
      "<i>Python</i>\n",
      "<b>Python Tutorial</b>\n"
     ]
    }
   ],
   "source": [
    "#cau15\n",
    "def add_tags(tag, word):\n",
    "    return \"<%s>%s</%s>\" % (tag, word, tag)\n",
    "\n",
    "print(add_tags('i', 'Python'))\n",
    "print(add_tags('b', 'Python Tutorial'))"
   ]
  },
  {
   "cell_type": "code",
   "execution_count": null,
   "metadata": {},
   "outputs": [
    {
     "name": "stdout",
     "output_type": "stream",
     "text": [
      "[[Python]]\n",
      "{{PHP}}\n",
      "<<HTML>>\n"
     ]
    }
   ],
   "source": [
    "#cau16\n",
    "def insert_string_middle(str, word):\n",
    "    return str[:2] + word + str[2:]\n",
    "\n",
    "print(insert_string_middle('[[]]', 'Python'))  \n",
    "print(insert_string_middle('{{}}', 'PHP'))   \n",
    "print(insert_string_middle('<<>>', 'HTML'))  "
   ]
  },
  {
   "cell_type": "code",
   "execution_count": null,
   "metadata": {},
   "outputs": [
    {
     "name": "stdout",
     "output_type": "stream",
     "text": [
      "onononon\n",
      "eseseses\n"
     ]
    }
   ],
   "source": [
    "#cau17\n",
    "def insert_end(str):\n",
    "    sub_str = str[-2:]\n",
    "    return sub_str * 4\n",
    "\n",
    "print(insert_end('Python'))    \n",
    "print(insert_end('Exercises')) "
   ]
  },
  {
   "cell_type": "code",
   "execution_count": null,
   "metadata": {},
   "outputs": [
    {
     "name": "stdout",
     "output_type": "stream",
     "text": [
      "ipy\n",
      "pyt\n",
      "py\n"
     ]
    }
   ],
   "source": [
    "#cau18\n",
    "def first_three(str):\n",
    "    if len(str) > 3:\n",
    "        return str[:3]\n",
    "    else:\n",
    "        return str\n",
    "\n",
    "print(first_three('ipy'))     \n",
    "print(first_three('python'))   \n",
    "print(first_three('py'))       "
   ]
  },
  {
   "cell_type": "code",
   "execution_count": 25,
   "metadata": {},
   "outputs": [
    {
     "name": "stdout",
     "output_type": "stream",
     "text": [
      "https://www.w3resource.com/python-exercises\n",
      "https://www.w3resource.com/python\n"
     ]
    }
   ],
   "source": [
    "#cau19\n",
    "str1 = 'https://www.w3resource.com/python-exercises/string'\n",
    "\n",
    "print(str1.rsplit('/', 1)[0]) \n",
    "print(str1.rsplit('-', 1)[0]) "
   ]
  },
  {
   "cell_type": "code",
   "execution_count": null,
   "metadata": {},
   "outputs": [
    {
     "name": "stdout",
     "output_type": "stream",
     "text": [
      "dcba\n",
      "python\n"
     ]
    }
   ],
   "source": [
    "#cau20\n",
    "def reverse_string(str1):\n",
    "    if len(str1) % 4 == 0:\n",
    "        return ''.join(reversed(str1))\n",
    "    return str1\n",
    "\n",
    "print(reverse_string('abcd'))  \n",
    "print(reverse_string('python'))"
   ]
  },
  {
   "cell_type": "code",
   "execution_count": null,
   "metadata": {},
   "outputs": [
    {
     "name": "stdout",
     "output_type": "stream",
     "text": [
      "Python\n",
      "PYTHON\n"
     ]
    }
   ],
   "source": [
    "#cau21\n",
    "def to_uppercase(str1):\n",
    "    num_upper = 0\n",
    "\n",
    "    for letter in str1[:4]:\n",
    "        if letter.upper() == letter:\n",
    "            num_upper += 1\n",
    "\n",
    "    if num_upper >= 2:\n",
    "        return str1.upper()\n",
    "    return str1\n",
    "\n",
    "print(to_uppercase('Python'))  \n",
    "print(to_uppercase('PyThon')) "
   ]
  },
  {
   "cell_type": "code",
   "execution_count": null,
   "metadata": {},
   "outputs": [
    {
     "name": "stdout",
     "output_type": "stream",
     "text": [
      "['3', 'c', 'e', 'e', 'o', 'r', 'r', 's', 'u', 'w']\n",
      "['b', 'c', 'i', 'k', 'n', 'o', 'q', 'r', 'u', 'w']\n"
     ]
    }
   ],
   "source": [
    "#cau22\n",
    "def lexicographic_sort(s):\n",
    "    return sorted(sorted(s), key=str.upper)\n",
    "\n",
    "print(lexicographic_sort('w3resource'))  \n",
    "print(lexicographic_sort('quickbrown'))"
   ]
  },
  {
   "cell_type": "code",
   "execution_count": null,
   "metadata": {},
   "outputs": [
    {
     "name": "stdout",
     "output_type": "stream",
     "text": [
      "Python Exercises\n",
      "\n",
      "Python Exercises\n"
     ]
    }
   ],
   "source": [
    "#cau23\n",
    "str1 = 'Python Exercises\\n'\n",
    "print(str1)\n",
    "print(str1.rstrip()) "
   ]
  },
  {
   "cell_type": "code",
   "execution_count": null,
   "metadata": {},
   "outputs": [
    {
     "name": "stdout",
     "output_type": "stream",
     "text": [
      "True\n",
      "False\n"
     ]
    }
   ],
   "source": [
    "#cau24\n",
    "starts_with = lambda x: True if x.startswith('P') else False\n",
    "\n",
    "print(starts_with('Python'))\n",
    "print(starts_with('Java')) "
   ]
  },
  {
   "cell_type": "code",
   "execution_count": 33,
   "metadata": {},
   "outputs": [
    {
     "name": "stdout",
     "output_type": "stream",
     "text": [
      "['c', 'd', 'e']\n"
     ]
    }
   ],
   "source": [
    "#cau25\n",
    "def caesar_encrypt(realText, step):\n",
    "    outText = []\n",
    "    cryptText = []\n",
    "\n",
    "    uppercase = ['A', 'B', 'C', 'D', 'E', 'F', 'G', 'H', 'I', 'J', 'K', 'L', 'M', 'N', 'O', 'P', 'Q', 'R', 'S', 'T', 'U', 'V', 'W', 'X', 'Y', 'Z']\n",
    "    lowercase = ['a', 'b', 'c', 'd', 'e', 'f', 'g', 'h', 'i', 'j', 'k', 'l', 'm', 'n', 'o', 'p', 'q', 'r', 's', 't', 'u', 'v', 'w', 'x', 'y', 'z']\n",
    "\n",
    "    for eachLetter in realText:\n",
    "        if eachLetter in uppercase:\n",
    "            index = uppercase.index(eachLetter)\n",
    "\n",
    "            crypting = (index + step) % 26\n",
    "            cryptText.append(crypting)\n",
    "\n",
    "            newLetter = uppercase[crypting]\n",
    "            outText.append(newLetter)\n",
    "        elif eachLetter in lowercase:\n",
    "            index = lowercase.index(eachLetter)\n",
    "\n",
    "            crypting = (index + step) % 26\n",
    "            cryptText.append(crypting)\n",
    "\n",
    "            newLetter = lowercase[crypting]\n",
    "            outText.append(newLetter)\n",
    "    return outText\n",
    "\n",
    "code = caesar_encrypt('abc', 2)\n",
    "print(code)"
   ]
  },
  {
   "cell_type": "code",
   "execution_count": null,
   "metadata": {},
   "outputs": [
    {
     "name": "stdout",
     "output_type": "stream",
     "text": [
      "   Python is a widely used high-level, general-\n",
      "purpose, interpreted,   dynamic programming\n",
      "language. Its design philosophy emphasizes   code\n",
      "readability, and its syntax allows programmers to\n",
      "express   concepts in fewer lines of code than\n",
      "possible in languages such   as C++ or Java.\n"
     ]
    }
   ],
   "source": [
    "#cau26\n",
    "import textwrap\n",
    "\n",
    "sample_text = '''\n",
    "  Python is a widely used high-level, general-purpose, interpreted,\n",
    "  dynamic programming language. Its design philosophy emphasizes\n",
    "  code readability, and its syntax allows programmers to express\n",
    "  concepts in fewer lines of code than possible in languages such\n",
    "  as C++ or Java.\n",
    "  '''\n",
    "\n",
    "print(textwrap.fill(sample_text, width=50))"
   ]
  },
  {
   "cell_type": "code",
   "execution_count": null,
   "metadata": {},
   "outputs": [
    {
     "name": "stdout",
     "output_type": "stream",
     "text": [
      "\n",
      "Python is a widely used high-level, general-purpose, interpreted,\n",
      "dynamic programming language. Its design philosophy emphasizes\n",
      "code readability, and its syntax allows programmers to express\n",
      "concepts in fewer lines of code than possible in languages such\n",
      "as C++ or Java.\n",
      "\n"
     ]
    }
   ],
   "source": [
    "#cau27\n",
    "import textwrap\n",
    "\n",
    "sample_text = '''\n",
    "    Python is a widely used high-level, general-purpose, interpreted,\n",
    "    dynamic programming language. Its design philosophy emphasizes\n",
    "    code readability, and its syntax allows programmers to express\n",
    "    concepts in fewer lines of code than possible in languages such\n",
    "    as C++ or Java.\n",
    "    '''\n",
    "text_without_Indentation = textwrap.dedent(sample_text)\n",
    "print(text_without_Indentation )"
   ]
  },
  {
   "cell_type": "code",
   "execution_count": 37,
   "metadata": {},
   "outputs": [
    {
     "name": "stdout",
     "output_type": "stream",
     "text": [
      "\n",
      "Python is a widely used high-level, general-purpose, interpreted,\n",
      "dynamic programming language. Its design philosophy emphasizes\n",
      "code readability, and its syntax allows programmers to express\n",
      "concepts in fewer lines of code than possible in languages such\n",
      "as C++ or Java.\n",
      "\n"
     ]
    }
   ],
   "source": [
    "#cau28\n",
    "import textwrap\n",
    "\n",
    "sample_text = '''\n",
    "    Python is a widely used high-level, general-purpose, interpreted,\n",
    "    dynamic programming language. Its design philosophy emphasizes\n",
    "    code readability, and its syntax allows programmers to express\n",
    "    concepts in fewer lines of code than possible in languages such\n",
    "    as C++ or Java.\n",
    "    '''\n",
    "\n",
    "text_without_Indentation = textwrap.dedent(sample_text)\n",
    "print(text_without_Indentation)"
   ]
  },
  {
   "cell_type": "code",
   "execution_count": 38,
   "metadata": {},
   "outputs": [
    {
     "name": "stdout",
     "output_type": "stream",
     "text": [
      "Python is a widely used high-level, general-purpose, interpreted, dynamic\n",
      "    programming language. Its design philosophy emphasizes code readability, and\n",
      "    its syntax allows programmers to express concepts in fewer lines of code\n",
      "    than possible in languages such as C++ or Java.\n"
     ]
    }
   ],
   "source": [
    "#cau29\n",
    "import textwrap\n",
    "\n",
    "sample_text ='''\n",
    "Python is a widely used high-level, general-purpose, interpreted, dynamic\n",
    "programming language. Its design philosophy emphasizes code readability,\n",
    "and its syntax allows programmers to express concepts in fewer lines of\n",
    "code than possible in languages such as C++ or Java.\n",
    "    '''\n",
    "\n",
    "text1 = textwrap.dedent(sample_text).strip()\n",
    "print(textwrap.fill(text1,\n",
    "                    initial_indent='',\n",
    "                    subsequent_indent=' ' * 4,\n",
    "                    width=80,\n",
    "                    ))"
   ]
  },
  {
   "cell_type": "code",
   "execution_count": 16,
   "metadata": {},
   "outputs": [
    {
     "name": "stdout",
     "output_type": "stream",
     "text": [
      "234.454646574545\n",
      "234.45\n"
     ]
    }
   ],
   "source": [
    "#cau30\n",
    "def cau30(number):\n",
    "    str_number = str(number)\n",
    "    if '.' in str_number:\n",
    "        decimal_index = str_number.index('.')\n",
    "        integer_part = str_number[:decimal_index]\n",
    "        decimal_part = str_number[decimal_index + 1:]\n",
    "\n",
    "        if len(decimal_part) > 2:\n",
    "            third_digit = int(decimal_part[2])\n",
    "            decimal_part = decimal_part[:2]\n",
    "\n",
    "            if third_digit > 5:\n",
    "                if len(decimal_part) == 2:\n",
    "                    if decimal_part[1] == 9:\n",
    "                        decimal_part = str(int(decimal_part[0]) + 1) + '0'\n",
    "                    else:\n",
    "                        decimal_part = decimal_part[0] + str(int(decimal_part[1] + 1))\n",
    "\n",
    "        elif len(decimal_part) < 2:\n",
    "            decimal_part = decimal_part.ljust(2, '0')\n",
    "\n",
    "        number = integer_part + '.' + decimal_part\n",
    "    \n",
    "    else:\n",
    "        number = str_number + '.00'\n",
    "\n",
    "    print(number)\n",
    "\n",
    "test = input('Enter number: ')\n",
    "print(test)\n",
    "cau30(test)"
   ]
  },
  {
   "cell_type": "code",
   "execution_count": 18,
   "metadata": {},
   "outputs": [
    {
     "name": "stdout",
     "output_type": "stream",
     "text": [
      "Original Number:  3.1415926\n",
      "Formatted Number with sign: +3.14\n",
      "Original Number:  -12.9999\n",
      "Formatted Number with sign: -13.00\n"
     ]
    }
   ],
   "source": [
    "#cau31\n",
    "x = 3.1415926\n",
    "y = -12.9999\n",
    "\n",
    "print(\"Original Number: \", x)\n",
    "print(\"Formatted Number with sign: \"+\"{:+.2f}\".format(x))\n",
    "print(\"Original Number: \", y)\n",
    "print(\"Formatted Number with sign: \"+\"{:+.2f}\".format(y))"
   ]
  },
  {
   "cell_type": "code",
   "execution_count": 17,
   "metadata": {},
   "outputs": [
    {
     "name": "stdout",
     "output_type": "stream",
     "text": [
      "Original Number:  3.1415926\n",
      "Formatted Number with no decimal places: 3\n",
      "Original Number:  -12.9999\n",
      "Formatted Number with no decimal places: -13\n"
     ]
    }
   ],
   "source": [
    "#cau32\n",
    "x = 3.1415926\n",
    "y = -12.9999\n",
    "\n",
    "print(\"Original Number: \", x)\n",
    "print(\"Formatted Number with no decimal places: \"+\"{:.0f}\".format(x))\n",
    "print(\"Original Number: \", y)\n",
    "print(\"Formatted Number with no decimal places: \"+\"{:.0f}\".format(y))"
   ]
  },
  {
   "cell_type": "code",
   "execution_count": 16,
   "metadata": {},
   "outputs": [
    {
     "name": "stdout",
     "output_type": "stream",
     "text": [
      "Original Number:  3\n",
      "Formatted Number (left padding, width 2): 03\n",
      "Original Number:  123\n",
      "Formatted Number (left padding, width 6): 000123\n"
     ]
    }
   ],
   "source": [
    "#cau33\n",
    "x = 3\n",
    "y = 123\n",
    "\n",
    "print(\"Original Number: \", x)\n",
    "print(\"Formatted Number (left padding, width 2): \"+\"{:0>2d}\".format(x))\n",
    "print(\"Original Number: \", y)\n",
    "print(\"Formatted Number (left padding, width 6): \"+\"{:0>6d}\".format(y))"
   ]
  },
  {
   "cell_type": "code",
   "execution_count": 15,
   "metadata": {},
   "outputs": [
    {
     "name": "stdout",
     "output_type": "stream",
     "text": [
      "Original Number:  3\n",
      "Formatted Number (right padding, width 2):  3*\n",
      "Original Number:  123\n",
      "Formatted Number (right padding, width 6):  123***\n"
     ]
    }
   ],
   "source": [
    "#cau34\n",
    "x = 3\n",
    "y = 123\n",
    "\n",
    "print(\"Original Number: \", x)\n",
    "print(\"Formatted Number (right padding, width 2): \"+\"{:*< 3d}\".format(x))\n",
    "print(\"Original Number: \", y)\n",
    "print(\"Formatted Number (right padding, width 6): \"+\"{:*< 7d}\".format(y))"
   ]
  },
  {
   "cell_type": "code",
   "execution_count": 14,
   "metadata": {},
   "outputs": [
    {
     "name": "stdout",
     "output_type": "stream",
     "text": [
      "Original Number:  3000000\n",
      "Formatted Number with comma separator: 3,000,000\n",
      "Original Number:  30000000\n",
      "Formatted Number with comma separator: 30,000,000\n"
     ]
    }
   ],
   "source": [
    "#cau35\n",
    "x = 3000000\n",
    "y = 30000000\n",
    "\n",
    "print(\"Original Number: \", x)\n",
    "print(\"Formatted Number with comma separator: \"+\"{:,}\".format(x))\n",
    "print(\"Original Number: \", y)\n",
    "print(\"Formatted Number with comma separator: \"+\"{:,}\".format(y))"
   ]
  },
  {
   "cell_type": "code",
   "execution_count": 13,
   "metadata": {},
   "outputs": [
    {
     "name": "stdout",
     "output_type": "stream",
     "text": [
      "Original Number:  0.25\n",
      "Formatted Number with percentage: 25.00%\n",
      "Original Number:  -0.25\n",
      "Formatted Number with percentage: -25.00%\n"
     ]
    }
   ],
   "source": [
    "#cau36\n",
    "x = 0.25\n",
    "y = -0.25\n",
    "\n",
    "print(\"Original Number: \", x)\n",
    "print(\"Formatted Number with percentage: \"+\"{:.2%}\".format(x))\n",
    "print(\"Original Number: \", y)\n",
    "print(\"Formatted Number with percentage: \"+\"{:.2%}\".format(y))"
   ]
  },
  {
   "cell_type": "code",
   "execution_count": 12,
   "metadata": {},
   "outputs": [
    {
     "name": "stdout",
     "output_type": "stream",
     "text": [
      "Original Number:  22\n",
      "Left aligned (width 10)   : 22       \n",
      "Right aligned (width 10)  :        22\n",
      "Center aligned (width 10) :    22    \n"
     ]
    }
   ],
   "source": [
    "#cau37\n",
    "x = 22\n",
    "\n",
    "print(\"Original Number: \", x)\n",
    "print(\"Left aligned (width 10)   :\"+\"{:< 10d}\".format(x))\n",
    "print(\"Right aligned (width 10)  :\"+\"{:10d}\".format(x))\n",
    "print(\"Center aligned (width 10) :\"+\"{:^10d}\".format(x))"
   ]
  },
  {
   "cell_type": "code",
   "execution_count": 10,
   "metadata": {},
   "outputs": [
    {
     "name": "stdout",
     "output_type": "stream",
     "text": [
      "1\n"
     ]
    }
   ],
   "source": [
    "#cau38\n",
    "str1 = 'The quick brown fox jumps over the lazy dog.'\n",
    "print(str1.count(\"fox\"))"
   ]
  },
  {
   "cell_type": "code",
   "execution_count": 9,
   "metadata": {},
   "outputs": [
    {
     "name": "stdout",
     "output_type": "stream",
     "text": [
      "dcba4321\n"
     ]
    }
   ],
   "source": [
    "#cau39\n",
    "def string_reverse(str1):\n",
    "    rstr1 = ''\n",
    "    \n",
    "    index = len(str1)\n",
    "    \n",
    "    while index > 0:\n",
    "        rstr1 += str1[index - 1]\n",
    "        index = index - 1\n",
    "    return rstr1\n",
    "\n",
    "print(string_reverse('1234abcd'))\n"
   ]
  },
  {
   "cell_type": "code",
   "execution_count": 8,
   "metadata": {},
   "outputs": [
    {
     "name": "stdout",
     "output_type": "stream",
     "text": [
      "dog. lazy the over jumps fox brown quick The\n",
      "Exercises. Python\n"
     ]
    }
   ],
   "source": [
    "#cau40\n",
    "def reverse_string_words(text):\n",
    "    for line in text.split('\\n'):\n",
    "        return(' '.join(line.split()[::-1]))\n",
    "\n",
    "print(reverse_string_words(\"The quick brown fox jumps over the lazy dog.\"))\n",
    "print(reverse_string_words(\"Python Exercises.\")) \n"
   ]
  },
  {
   "cell_type": "code",
   "execution_count": 7,
   "metadata": {},
   "outputs": [
    {
     "name": "stdout",
     "output_type": "stream",
     "text": [
      "The quick brown fox jumps over the lazy dog.\n",
      "After stripping a, e, i, o, u\n",
      "Th qck brwn fx jmps vr th lzy dg.\n"
     ]
    }
   ],
   "source": [
    "#cau41\n",
    "def strip_chars(str, chars):\n",
    "    return \"\".join(c for c in str if c not in chars)\n",
    "\n",
    "print(\"The quick brown fox jumps over the lazy dog.\")\n",
    "print(\"After stripping a, e, i, o, u\")\n",
    "print(strip_chars(\"The quick brown fox jumps over the lazy dog.\", \"aeiou\"))\n"
   ]
  },
  {
   "cell_type": "code",
   "execution_count": 4,
   "metadata": {},
   "outputs": [
    {
     "name": "stdout",
     "output_type": "stream",
     "text": [
      "o 4\n",
      "e 3\n",
      "t 2\n",
      "h 2\n",
      "u 2\n",
      "r 2\n"
     ]
    }
   ],
   "source": [
    "#cau42\n",
    "import collections\n",
    "\n",
    "str1 = 'thequickbrownfoxjumpsoverthelazydog'\n",
    "\n",
    "d = collections.defaultdict(int)\n",
    "\n",
    "for c in str1:\n",
    "    d[c] += 1\n",
    "\n",
    "for c in sorted(d, key=d.get, reverse=True):\n",
    "    if d[c] > 1:\n",
    "        print('%s %d' % (c, d[c])) "
   ]
  },
  {
   "cell_type": "code",
   "execution_count": 3,
   "metadata": {},
   "outputs": [
    {
     "name": "stdout",
     "output_type": "stream",
     "text": [
      "The area of the rectangle is 1256.66cm²\n",
      "The volume of the cylinder is 1254.725cm³\n"
     ]
    }
   ],
   "source": [
    "#cau43\n",
    "area = 1256.66\n",
    "volume = 1254.725\n",
    "\n",
    "decimals = 2\n",
    "\n",
    "print(\"The area of the rectangle is {0:.{1}f}cm\\u00b2\".format(area, decimals))\n",
    "\n",
    "decimals = 3\n",
    "\n",
    "print(\"The volume of the cylinder is {0:.{1}f}cm\\u00b3\".format(volume, decimals))\n"
   ]
  },
  {
   "cell_type": "code",
   "execution_count": 2,
   "metadata": {},
   "outputs": [
    {
     "name": "stdout",
     "output_type": "stream",
     "text": [
      "w3resource\n",
      "Current character w position at 0\n",
      "Current character 3 position at 1\n",
      "Current character r position at 2\n",
      "Current character e position at 3\n",
      "Current character s position at 4\n",
      "Current character o position at 5\n",
      "Current character u position at 6\n",
      "Current character r position at 7\n",
      "Current character c position at 8\n",
      "Current character e position at 9\n"
     ]
    }
   ],
   "source": [
    "#cau44\n",
    "def cau44(string):\n",
    "    for index, char in enumerate(string):\n",
    "        # Print the current character, its position, and a descriptive message.\n",
    "        print(\"Current character\", char, \"position at\", index)\n",
    "\n",
    "string = input()\n",
    "print(string)\n",
    "cau44(string)"
   ]
  },
  {
   "cell_type": "code",
   "execution_count": 16,
   "metadata": {},
   "outputs": [
    {
     "name": "stdout",
     "output_type": "stream",
     "text": [
      "The string contains all letters of the alphabet.\n"
     ]
    }
   ],
   "source": [
    "#cau45\n",
    "import string\n",
    "\n",
    "input_string = \"The quick brown fox jumps over the lazy dog\"\n",
    "\n",
    "letters_in_string = set(input_string.lower())\n",
    "\n",
    "alphabet_set = set(string.ascii_lowercase)\n",
    "\n",
    "contains_all_letters = alphabet_set.issubset(letters_in_string)\n",
    "\n",
    "if contains_all_letters:\n",
    "    print(\"The string contains all letters of the alphabet.\")\n",
    "else:\n",
    "    print(\"The string does not contain all letters of the alphabet.\")"
   ]
  },
  {
   "cell_type": "code",
   "execution_count": 14,
   "metadata": {},
   "outputs": [
    {
     "name": "stdout",
     "output_type": "stream",
     "text": [
      "Original String: The quick brown fox jumps over the lazy dog\n",
      "List of Words: ['The', 'quick', 'brown', 'fox', 'jumps', 'over', 'the', 'lazy', 'dog']\n"
     ]
    }
   ],
   "source": [
    "#cau46\n",
    "input_string = \"The quick brown fox jumps over the lazy dog\"\n",
    "\n",
    "word_list = input_string.split()\n",
    "\n",
    "print(\"Original String:\", input_string)\n",
    "print(\"List of Words:\", word_list)"
   ]
  },
  {
   "cell_type": "code",
   "execution_count": 12,
   "metadata": {},
   "outputs": [
    {
     "name": "stdout",
     "output_type": "stream",
     "text": [
      "Original String: HELLO\n",
      "Modified String: helLO\n"
     ]
    }
   ],
   "source": [
    "#cau47\n",
    "def cau47(input_string, n):\n",
    "    if n > len(input_string):\n",
    "        n = len(input_string)\n",
    "\n",
    "    lowercased_part = input_string[:n].lower()\n",
    "    remaining_part = input_string[n:]\n",
    "    \n",
    "    result_string = lowercased_part + remaining_part\n",
    "\n",
    "    print(\"Original String:\", input_string)\n",
    "    print(\"Modified String:\", result_string)\n",
    "\n",
    "string = input(\"Nhap mot chuoi: \")\n",
    "n = int(input(\"Nhap so n: \"))\n",
    "cau47(string, n)"
   ]
  },
  {
   "cell_type": "code",
   "execution_count": 6,
   "metadata": {},
   "outputs": [
    {
     "name": "stdout",
     "output_type": "stream",
     "text": [
      "Original String: 32.054,23\n",
      "Swapped String: 32,054.23\n"
     ]
    }
   ],
   "source": [
    "#cau48\n",
    "def cau48(input_string):\n",
    "    swapped_string = \"\"\n",
    "\n",
    "    for char in input_string:\n",
    "        if char == ',':\n",
    "            swapped_string += '.'\n",
    "        elif char == '.':\n",
    "            swapped_string += ','\n",
    "        else:\n",
    "            swapped_string += char\n",
    "\n",
    "    print(\"Original String:\", input_string)\n",
    "    print(\"Swapped String:\", swapped_string)\n",
    "\n",
    "string = input()\n",
    "cau48(string)"
   ]
  },
  {
   "cell_type": "code",
   "execution_count": 5,
   "metadata": {},
   "outputs": [
    {
     "name": "stdout",
     "output_type": "stream",
     "text": [
      "Hello World\n",
      "3\n",
      "['e', 'o', 'o']\n"
     ]
    }
   ],
   "source": [
    "#cau49\n",
    "def vowel(text):\n",
    "    vowels = \"aeiuoAEIOU\"\n",
    "\n",
    "    print(len([letter for letter in text if letter in vowels]))\n",
    "    print([letter for letter in text if letter in vowels])\n",
    "\n",
    "text = input()\n",
    "print(text)\n",
    "vowel(text) \n"
   ]
  },
  {
   "cell_type": "code",
   "execution_count": 3,
   "metadata": {},
   "outputs": [
    {
     "name": "stdout",
     "output_type": "stream",
     "text": [
      "['w,3,r,e,s,o,u,r,c', 'e']\n",
      "['w,3,r,e,s,o,u,r', 'c', 'e']\n",
      "['w,3,r,e,s', 'o', 'u', 'r', 'c', 'e']\n"
     ]
    }
   ],
   "source": [
    "#cau50\n",
    "str1 = \"w,3,r,e,s,o,u,r,c,e\"\n",
    "\n",
    "print(str1.rsplit(',', 1))\n",
    "print(str1.rsplit(',', 2))\n",
    "print(str1.rsplit(',', 5)) \n"
   ]
  }
 ],
 "metadata": {
  "kernelspec": {
   "display_name": "Python 3",
   "language": "python",
   "name": "python3"
  },
  "language_info": {
   "codemirror_mode": {
    "name": "ipython",
    "version": 3
   },
   "file_extension": ".py",
   "mimetype": "text/x-python",
   "name": "python",
   "nbconvert_exporter": "python",
   "pygments_lexer": "ipython3",
   "version": "3.13.1"
  }
 },
 "nbformat": 4,
 "nbformat_minor": 2
}
