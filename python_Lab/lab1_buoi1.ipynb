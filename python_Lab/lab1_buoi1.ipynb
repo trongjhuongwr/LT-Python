{
 "cells": [
  {
   "cell_type": "code",
   "metadata": {
    "vscode": {
     "languageId": "powershell"
    },
    "jupyter": {
     "is_executing": true
    }
   },
   "source": [
    "if __name__ == '__main__':\n",
    "    #cau1\n",
    "    number_one, number_two = 5, 4\n",
    "\n",
    "    total = number_one + number_two\n",
    "    diff = number_two - number_one\n",
    "    product = number_one * number_two\n",
    "    division = number_one / number_two\n",
    "    remainder = number_two % number_one\n",
    "    exp = number_one ** number_two\n",
    "    floor_division = number_one // number_two\n",
    "\n",
    "    print('total = ', total)\n",
    "    print('diff = ', diff)\n",
    "    print('product = ', product)"
   ],
   "outputs": [],
   "execution_count": null
  },
  {
   "cell_type": "code",
   "execution_count": 2,
   "metadata": {
    "vscode": {
     "languageId": "powershell"
    }
   },
   "outputs": [
    {
     "name": "stdout",
     "output_type": "stream",
     "text": [
      "Volvo\n",
      "50\n",
      "15\n",
      "<class 'str'>\n",
      "<class 'str'>\n",
      "\n",
      "Here is a list of the Python keywords.  Enter any keyword to get more help.\n",
      "\n",
      "False               class               from                or\n",
      "None                continue            global              pass\n",
      "True                def                 if                  raise\n",
      "and                 del                 import              return\n",
      "as                  elif                in                  try\n",
      "assert              else                is                  while\n",
      "async               except              lambda              with\n",
      "await               finally             nonlocal            yield\n",
      "break               for                 not                 \n",
      "\n",
      "None\n"
     ]
    }
   ],
   "source": [
    "# cau1\n",
    "car_name = 'Volvo'\n",
    "print(car_name)\n",
    "\n",
    "#cau2\n",
    "x = 50\n",
    "print(x)\n",
    "\n",
    "#cau3\n",
    "x = 5\n",
    "y = 10\n",
    "\n",
    "#cau4\n",
    "z = x + y\n",
    "print(z)\n",
    "\n",
    "x, y, z = \"Orange\", \"Banana\", \"Cherry\"\n",
    "\n",
    "#cau6\n",
    "print(type(x))\n",
    "print(type(z))\n",
    "\n",
    "#cau7\n",
    "print(help('keywords'))"
   ]
  }
 ],
 "metadata": {
  "kernelspec": {
   "display_name": "Python 3",
   "language": "python",
   "name": "python3"
  },
  "language_info": {
   "codemirror_mode": {
    "name": "ipython",
    "version": 3
   },
   "file_extension": ".py",
   "mimetype": "text/x-python",
   "name": "python",
   "nbconvert_exporter": "python",
   "pygments_lexer": "ipython3",
   "version": "3.13.1"
  }
 },
 "nbformat": 4,
 "nbformat_minor": 2
}
