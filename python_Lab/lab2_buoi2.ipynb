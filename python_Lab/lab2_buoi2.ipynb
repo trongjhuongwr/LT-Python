{
 "cells": [
  {
   "cell_type": "code",
   "execution_count": 1,
   "metadata": {},
   "outputs": [
    {
     "name": "stdout",
     "output_type": "stream",
     "text": [
      "String: Hello World\n",
      "The length = 11\n"
     ]
    }
   ],
   "source": [
    "#cau1\n",
    "def cau1(theString):\n",
    "    print(f'String: {theString}')\n",
    "    print(f\"The length = {len(theString)}\")\n",
    "\n",
    "theString = input()\n",
    "cau1(theString)"
   ]
  },
  {
   "cell_type": "code",
   "execution_count": 2,
   "metadata": {},
   "outputs": [
    {
     "name": "stdout",
     "output_type": "stream",
     "text": [
      "String: Hello World\n",
      "Results: {'H': 1, 'e': 1, 'l': 3, 'o': 2, ' ': 1, 'W': 1, 'r': 1, 'd': 1}\n"
     ]
    }
   ],
   "source": [
    "#cau2\n",
    "def cau2(theString):\n",
    "    freq = {}\n",
    "    for i in theString:\n",
    "        if i in freq:\n",
    "            freq[i] = freq[i] + 1\n",
    "        else:\n",
    "            freq[i] = 1\n",
    "    print(f'String: {theString}')\n",
    "    print(f'Results: {freq}')\n",
    "\n",
    "theString = input()\n",
    "cau2(theString)"
   ]
  },
  {
   "cell_type": "code",
   "execution_count": 3,
   "metadata": {},
   "outputs": [
    {
     "name": "stdout",
     "output_type": "stream",
     "text": [
      "String: Hello World\n",
      "Results: Held\n"
     ]
    }
   ],
   "source": [
    "#cau3\n",
    "def cau3(str):\n",
    "    if len(str) < 2:\n",
    "        print(str)\n",
    "        print('Empty String')\n",
    "    else:\n",
    "        print(f'String: {theString}')\n",
    "        print(f'Results: {str[:2] + str[-2:]}')\n",
    "\n",
    "str = input()\n",
    "cau3(str)"
   ]
  },
  {
   "cell_type": "code",
   "execution_count": 4,
   "metadata": {},
   "outputs": [
    {
     "name": "stdout",
     "output_type": "stream",
     "text": [
      "String: huhuhuhuhuhuhu\n",
      "Results: hu$u$u$u$u$u$u\n"
     ]
    }
   ],
   "source": [
    "#cau4\n",
    "def cau4(theString):\n",
    "    char = theString[0]\n",
    "    results = char\n",
    "    for i in theString[1:]:\n",
    "        if i == char:\n",
    "            results += '$'\n",
    "        else:\n",
    "            results += i\n",
    "    print(f'String: {theString}')\n",
    "    print(f'Results: {results}')\n",
    "\n",
    "str = input()\n",
    "cau4(str)"
   ]
  },
  {
   "cell_type": "code",
   "execution_count": 4,
   "metadata": {},
   "outputs": [
    {
     "name": "stdout",
     "output_type": "stream",
     "text": [
      "xyc abz\n"
     ]
    }
   ],
   "source": [
    "#cau5\n",
    "def cau5(str1, str2):\n",
    "    str = str2[0:2] + str1[-1:] + ' ' + str1[:2] + str2[-1:]\n",
    "    print(str)\n",
    "\n",
    "str1 = input()\n",
    "str2 = input()\n",
    "cau5(str1, str2)\n"
   ]
  },
  {
   "cell_type": "code",
   "execution_count": 8,
   "metadata": {},
   "outputs": [
    {
     "name": "stdout",
     "output_type": "stream",
     "text": [
      "stringly\n"
     ]
    }
   ],
   "source": [
    "#cau6\n",
    "def cau6(string):\n",
    "    if string[-3:] == 'ing':\n",
    "        string += 'ly'\n",
    "        print(string)\n",
    "    elif len(string) > 3:\n",
    "        string += 'ing'\n",
    "        print(string)\n",
    "    else:\n",
    "        print(string)\n",
    "\n",
    "string = input()\n",
    "cau6(string)"
   ]
  },
  {
   "cell_type": "code",
   "execution_count": 18,
   "metadata": {},
   "outputs": [
    {
     "name": "stdout",
     "output_type": "stream",
     "text": [
      "The lyrics is good!\n",
      "The lyrics is poor!\n"
     ]
    }
   ],
   "source": [
    "#cau7\n",
    "def cau7(str):\n",
    "    not_index = -1\n",
    "    poor_index = -1\n",
    "    \n",
    "    for i in range(len(str)):\n",
    "        if str[i:i+3] == 'not':\n",
    "            not_index = i\n",
    "        if str[i:i+4] == 'poor':\n",
    "            poor_index = i\n",
    "            if not_index != -1:\n",
    "                break\n",
    "    if not_index != -1 and poor_index != -1 and not_index < poor_index:\n",
    "        return str[:not_index] + 'good' + str[poor_index + 4:]\n",
    "    else:\n",
    "        return str\n",
    "\n",
    "string1 = 'The lyrics is not that poor!'\n",
    "string2 = 'The lyrics is poor!'\n",
    "\n",
    "print(cau7(string1))\n",
    "print(cau7(string2))"
   ]
  },
  {
   "cell_type": "code",
   "execution_count": 19,
   "metadata": {},
   "outputs": [
    {
     "name": "stdout",
     "output_type": "stream",
     "text": [
      "Longest word: Xin Chào\n",
      "Length: 8\n"
     ]
    }
   ],
   "source": [
    "#cau8\n",
    "def cau8(words_list):\n",
    "    longest_word = words_list[0]\n",
    "    longest_length = len(longest_word)\n",
    "\n",
    "    for word in words_list:\n",
    "        current_length = len(word)\n",
    "        if current_length > longest_length:\n",
    "            longest_word = word\n",
    "            longest_length = current_length\n",
    "    return longest_word, longest_length\n",
    "\n",
    "words = ['Hello', 'Hi', 'Ni hao', 'Bonjua', 'Xin Chào']\n",
    "longest_word, length = cau8(words)\n",
    "print(f'Longest word: {longest_word}\\nLength: {length}')"
   ]
  },
  {
   "cell_type": "code",
   "execution_count": 22,
   "metadata": {},
   "outputs": [
    {
     "name": "stdout",
     "output_type": "stream",
     "text": [
      "Hello, orld!\n"
     ]
    }
   ],
   "source": [
    "#cau9\n",
    "def cau9(string, n):\n",
    "    if n < 0 or n >= len(string):\n",
    "        print('Index out of range')\n",
    "    else:\n",
    "        print(string[:n] + string[n+1:])\n",
    "    \n",
    "string = 'Hello, World!'\n",
    "n = 7\n",
    "cau9(string, n)"
   ]
  },
  {
   "cell_type": "code",
   "execution_count": null,
   "metadata": {},
   "outputs": [
    {
     "name": "stdout",
     "output_type": "stream",
     "text": [
      "guonh\n"
     ]
    }
   ],
   "source": [
    "#cau10\n",
    "def cau10(string):\n",
    "    print(string[-1:] + string[1:len(string)-1] + string[:1])\n",
    "\n",
    "string = input()\n",
    "cau10(string)"
   ]
  },
  {
   "cell_type": "code",
   "execution_count": 11,
   "metadata": {},
   "outputs": [],
   "source": [
    "#cau11"
   ]
  },
  {
   "cell_type": "code",
   "execution_count": 12,
   "metadata": {},
   "outputs": [],
   "source": [
    "#cau12"
   ]
  },
  {
   "cell_type": "code",
   "execution_count": 13,
   "metadata": {},
   "outputs": [],
   "source": [
    "#cau13"
   ]
  },
  {
   "cell_type": "code",
   "execution_count": 14,
   "metadata": {},
   "outputs": [],
   "source": [
    "#cau14"
   ]
  },
  {
   "cell_type": "code",
   "execution_count": 15,
   "metadata": {},
   "outputs": [],
   "source": [
    "#cau15"
   ]
  },
  {
   "cell_type": "code",
   "execution_count": 16,
   "metadata": {},
   "outputs": [],
   "source": [
    "#cau16"
   ]
  },
  {
   "cell_type": "code",
   "execution_count": 17,
   "metadata": {},
   "outputs": [],
   "source": [
    "#cau17"
   ]
  },
  {
   "cell_type": "code",
   "execution_count": 18,
   "metadata": {},
   "outputs": [],
   "source": [
    "#cau18"
   ]
  },
  {
   "cell_type": "code",
   "execution_count": 19,
   "metadata": {},
   "outputs": [],
   "source": [
    "#cau19"
   ]
  },
  {
   "cell_type": "code",
   "execution_count": 20,
   "metadata": {},
   "outputs": [],
   "source": [
    "#cau20"
   ]
  },
  {
   "cell_type": "code",
   "execution_count": 21,
   "metadata": {},
   "outputs": [],
   "source": [
    "#cau21"
   ]
  },
  {
   "cell_type": "code",
   "execution_count": 22,
   "metadata": {},
   "outputs": [],
   "source": [
    "#cau22"
   ]
  },
  {
   "cell_type": "code",
   "execution_count": 23,
   "metadata": {},
   "outputs": [],
   "source": [
    "#cau23"
   ]
  },
  {
   "cell_type": "code",
   "execution_count": 24,
   "metadata": {},
   "outputs": [],
   "source": [
    "#cau24"
   ]
  },
  {
   "cell_type": "code",
   "execution_count": 25,
   "metadata": {},
   "outputs": [],
   "source": [
    "#cau25"
   ]
  },
  {
   "cell_type": "code",
   "execution_count": 26,
   "metadata": {},
   "outputs": [],
   "source": [
    "#cau26"
   ]
  },
  {
   "cell_type": "code",
   "execution_count": 27,
   "metadata": {},
   "outputs": [],
   "source": [
    "#cau27"
   ]
  },
  {
   "cell_type": "code",
   "execution_count": 28,
   "metadata": {},
   "outputs": [],
   "source": [
    "#cau28"
   ]
  },
  {
   "cell_type": "code",
   "execution_count": 29,
   "metadata": {},
   "outputs": [],
   "source": [
    "#cau29"
   ]
  },
  {
   "cell_type": "code",
   "execution_count": 30,
   "metadata": {},
   "outputs": [],
   "source": [
    "#cau30"
   ]
  },
  {
   "cell_type": "code",
   "execution_count": 31,
   "metadata": {},
   "outputs": [],
   "source": [
    "#cau31"
   ]
  },
  {
   "cell_type": "code",
   "execution_count": 32,
   "metadata": {},
   "outputs": [],
   "source": [
    "#cau32"
   ]
  },
  {
   "cell_type": "code",
   "execution_count": 33,
   "metadata": {},
   "outputs": [],
   "source": [
    "#cau33"
   ]
  },
  {
   "cell_type": "code",
   "execution_count": 34,
   "metadata": {},
   "outputs": [],
   "source": [
    "#cau34"
   ]
  },
  {
   "cell_type": "code",
   "execution_count": 35,
   "metadata": {},
   "outputs": [],
   "source": [
    "#cau35"
   ]
  },
  {
   "cell_type": "code",
   "execution_count": 36,
   "metadata": {},
   "outputs": [],
   "source": [
    "#cau36"
   ]
  },
  {
   "cell_type": "code",
   "execution_count": 37,
   "metadata": {},
   "outputs": [],
   "source": [
    "#cau37"
   ]
  },
  {
   "cell_type": "code",
   "execution_count": 38,
   "metadata": {},
   "outputs": [],
   "source": [
    "#cau38"
   ]
  },
  {
   "cell_type": "code",
   "execution_count": 39,
   "metadata": {},
   "outputs": [],
   "source": [
    "#cau39"
   ]
  },
  {
   "cell_type": "code",
   "execution_count": 40,
   "metadata": {},
   "outputs": [],
   "source": [
    "#cau40"
   ]
  },
  {
   "cell_type": "code",
   "execution_count": 41,
   "metadata": {},
   "outputs": [],
   "source": [
    "#cau41"
   ]
  },
  {
   "cell_type": "code",
   "execution_count": 42,
   "metadata": {},
   "outputs": [],
   "source": [
    "#cau42"
   ]
  },
  {
   "cell_type": "code",
   "execution_count": 43,
   "metadata": {},
   "outputs": [],
   "source": [
    "#cau43"
   ]
  },
  {
   "cell_type": "code",
   "execution_count": 44,
   "metadata": {},
   "outputs": [],
   "source": [
    "#cau44"
   ]
  },
  {
   "cell_type": "code",
   "execution_count": 45,
   "metadata": {},
   "outputs": [],
   "source": [
    "#cau45"
   ]
  },
  {
   "cell_type": "code",
   "execution_count": 46,
   "metadata": {},
   "outputs": [],
   "source": [
    "#cau46"
   ]
  },
  {
   "cell_type": "code",
   "execution_count": 47,
   "metadata": {},
   "outputs": [],
   "source": [
    "#cau47"
   ]
  },
  {
   "cell_type": "code",
   "execution_count": 48,
   "metadata": {},
   "outputs": [],
   "source": [
    "#cau48"
   ]
  },
  {
   "cell_type": "code",
   "execution_count": 49,
   "metadata": {},
   "outputs": [],
   "source": [
    "#cau49"
   ]
  },
  {
   "cell_type": "code",
   "execution_count": 50,
   "metadata": {},
   "outputs": [],
   "source": [
    "#cau50"
   ]
  }
 ],
 "metadata": {
  "kernelspec": {
   "display_name": "Python 3",
   "language": "python",
   "name": "python3"
  },
  "language_info": {
   "codemirror_mode": {
    "name": "ipython",
    "version": 3
   },
   "file_extension": ".py",
   "mimetype": "text/x-python",
   "name": "python",
   "nbconvert_exporter": "python",
   "pygments_lexer": "ipython3",
   "version": "3.13.1"
  }
 },
 "nbformat": 4,
 "nbformat_minor": 2
}
